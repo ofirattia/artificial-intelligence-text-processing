{
 "cells": [
  {
   "cell_type": "markdown",
   "metadata": {},
   "source": [
    "# Text Processing\n",
    "\n",
    "## Capturing Text Data\n",
    "\n",
    "### Plain Text"
   ]
  },
  {
   "cell_type": "code",
   "execution_count": 4,
   "metadata": {},
   "outputs": [
    {
     "name": "stdout",
     "output_type": "stream",
     "text": [
      "Hieroglyphic writing dates from c. 3000 BC, and is composed of hundreds of symbols. A hieroglyph can represent a word, a sound, or a silent determinative; and the same symbol can serve different purposes in different contexts. Hieroglyphs were a formal script, used on stone monuments and in tombs, that could be as detailed as individual works of art.\n",
      "\n"
     ]
    }
   ],
   "source": [
    "import os\n",
    "\n",
    "# Read in a plain text file\n",
    "with open(os.path.join(\"data\", \"hieroglyph.txt\"), \"r\") as f:\n",
    "    text = f.read()\n",
    "    print(text)"
   ]
  },
  {
   "cell_type": "markdown",
   "metadata": {},
   "source": [
    "### Tabular Data"
   ]
  },
  {
   "cell_type": "code",
   "execution_count": 6,
   "metadata": {
    "scrolled": true
   },
   "outputs": [
    {
     "data": {
      "text/html": [
       "<div>\n",
       "<style scoped>\n",
       "    .dataframe tbody tr th:only-of-type {\n",
       "        vertical-align: middle;\n",
       "    }\n",
       "\n",
       "    .dataframe tbody tr th {\n",
       "        vertical-align: top;\n",
       "    }\n",
       "\n",
       "    .dataframe thead th {\n",
       "        text-align: right;\n",
       "    }\n",
       "</style>\n",
       "<table border=\"1\" class=\"dataframe\">\n",
       "  <thead>\n",
       "    <tr style=\"text-align: right;\">\n",
       "      <th></th>\n",
       "      <th>publisher</th>\n",
       "      <th>title</th>\n",
       "    </tr>\n",
       "  </thead>\n",
       "  <tbody>\n",
       "    <tr>\n",
       "      <th>0</th>\n",
       "      <td>Livemint</td>\n",
       "      <td>fed's charles plosser sees high bar for change...</td>\n",
       "    </tr>\n",
       "    <tr>\n",
       "      <th>1</th>\n",
       "      <td>IFA Magazine</td>\n",
       "      <td>us open: stocks fall after fed official hints ...</td>\n",
       "    </tr>\n",
       "    <tr>\n",
       "      <th>2</th>\n",
       "      <td>IFA Magazine</td>\n",
       "      <td>fed risks falling 'behind the curve', charles ...</td>\n",
       "    </tr>\n",
       "    <tr>\n",
       "      <th>3</th>\n",
       "      <td>Moneynews</td>\n",
       "      <td>fed's plosser: nasty weather has curbed job gr...</td>\n",
       "    </tr>\n",
       "    <tr>\n",
       "      <th>4</th>\n",
       "      <td>NASDAQ</td>\n",
       "      <td>plosser: fed may have to accelerate tapering pace</td>\n",
       "    </tr>\n",
       "  </tbody>\n",
       "</table>\n",
       "</div>"
      ],
      "text/plain": [
       "      publisher                                              title\n",
       "0      Livemint  fed's charles plosser sees high bar for change...\n",
       "1  IFA Magazine  us open: stocks fall after fed official hints ...\n",
       "2  IFA Magazine  fed risks falling 'behind the curve', charles ...\n",
       "3     Moneynews  fed's plosser: nasty weather has curbed job gr...\n",
       "4        NASDAQ  plosser: fed may have to accelerate tapering pace"
      ]
     },
     "execution_count": 6,
     "metadata": {},
     "output_type": "execute_result"
    }
   ],
   "source": [
    "import pandas as pd\n",
    "\n",
    "# Extract text column from a dataframe\n",
    "df = pd.read_csv(os.path.join(\"data\", \"news.csv\"))\n",
    "df.head()[['publisher', 'title']]\n",
    "\n",
    "# Convert text column to lowercase\n",
    "df['title'] = df['title'].str.lower()\n",
    "df.head()[['publisher', 'title']]"
   ]
  },
  {
   "cell_type": "markdown",
   "metadata": {},
   "source": [
    "### Online Resource"
   ]
  },
  {
   "cell_type": "code",
   "execution_count": 7,
   "metadata": {
    "scrolled": true
   },
   "outputs": [
    {
     "name": "stdout",
     "output_type": "stream",
     "text": [
      "{\n",
      "    \"success\": {\n",
      "        \"total\": 1\n",
      "    },\n",
      "    \"contents\": {\n",
      "        \"quotes\": [\n",
      "            {\n",
      "                \"quote\": \"Do the best you can until you know better. Then when you know better, do better.\",\n",
      "                \"length\": \"80\",\n",
      "                \"author\": \"Maya Angelou\",\n",
      "                \"tags\": {\n",
      "                    \"0\": \"inspire\",\n",
      "                    \"2\": \"wisdom\"\n",
      "                },\n",
      "                \"category\": \"inspire\",\n",
      "                \"language\": \"en\",\n",
      "                \"date\": \"2020-02-16\",\n",
      "                \"permalink\": \"https://theysaidso.com/quote/maya-angelou-do-the-best-you-can-until-you-know-better-then-when-you-know-better\",\n",
      "                \"id\": \"B27anrMZFJFeMsJyTvRkrweF\",\n",
      "                \"background\": \"https://theysaidso.com/img/qod/qod-inspire.jpg\",\n",
      "                \"title\": \"Inspiring Quote of the day\"\n",
      "            }\n",
      "        ]\n",
      "    },\n",
      "    \"baseurl\": \"https://theysaidso.com\",\n",
      "    \"copyright\": {\n",
      "        \"year\": 2022,\n",
      "        \"url\": \"https://theysaidso.com\"\n",
      "    }\n",
      "}\n",
      "Do the best you can until you know better. Then when you know better, do better. \n",
      "-- Maya Angelou\n"
     ]
    }
   ],
   "source": [
    "import requests\n",
    "import json\n",
    "\n",
    "# Fetch data from a REST API\n",
    "r = requests.get(\n",
    "    \"https://quotes.rest/qod.json\")\n",
    "res = r.json()\n",
    "print(json.dumps(res, indent=4))\n",
    "\n",
    "# Extract relevant object and field\n",
    "q = res[\"contents\"][\"quotes\"][0]\n",
    "print(q[\"quote\"], \"\\n--\", q[\"author\"])"
   ]
  },
  {
   "cell_type": "markdown",
   "metadata": {},
   "source": [
    "## Cleaning"
   ]
  },
  {
   "cell_type": "code",
   "execution_count": 8,
   "metadata": {
    "scrolled": true
   },
   "outputs": [
    {
     "name": "stdout",
     "output_type": "stream",
     "text": [
      "<html op=\"news\"><head><meta name=\"referrer\" content=\"origin\"><meta name=\"viewport\" content=\"width=device-width, initial-scale=1.0\"><link rel=\"stylesheet\" type=\"text/css\" href=\"news.css?GvtQ9Pb5xKMYZzmICAOq\">\n",
      "        <link rel=\"shortcut icon\" href=\"favicon.ico\">\n",
      "          <link rel=\"alternate\" type=\"application/rss+xml\" title=\"RSS\" href=\"rss\">\n",
      "        <title>Hacker News</title></head><body><center><table id=\"hnmain\" border=\"0\" cellpadding=\"0\" cellspacing=\"0\" width=\"85%\" bgcolor=\"#f6f6ef\">\n",
      "        <tr><td bgcolor=\"#ff6600\"><table border=\"0\" cellpadding=\"0\" cellspacing=\"0\" width=\"100%\" style=\"padding:2px\"><tr><td style=\"width:18px;padding-right:4px\"><a href=\"https://news.ycombinator.com\"><img src=\"y18.gif\" width=\"18\" height=\"18\" style=\"border:1px white solid;\"></a></td>\n",
      "                  <td style=\"line-height:12pt; height:10px;\"><span class=\"pagetop\"><b class=\"hnname\"><a href=\"news\">Hacker News</a></b>\n",
      "              <a href=\"newest\">new</a> | <a href=\"front\">past</a> | <a href=\"newcomments\">comments</a> | <a href=\"ask\">ask</a> | <a href=\"show\">show</a> | <a href=\"jobs\">jobs</a> | <a href=\"submit\">submit</a>            </span></td><td style=\"text-align:right;padding-right:4px;\"><span class=\"pagetop\">\n",
      "                              <a href=\"login?goto=news\">login</a>\n",
      "                          </span></td>\n",
      "              </tr></table></td></tr>\n",
      "<tr id=\"pagespace\" title=\"\" style=\"height:10px\"></tr><tr><td><table border=\"0\" cellpadding=\"0\" cellspacing=\"0\" class=\"itemlist\">\n",
      "              <tr class='athing' id='22342682'>\n",
      "      <td align=\"right\" valign=\"top\" class=\"title\"><span class=\"rank\">1.</span></td>      <td valign=\"top\" class=\"votelinks\"><center><a id='up_22342682' href='vote?id=22342682&amp;how=up&amp;goto=news'><div class='votearrow' title='upvote'></div></a></center></td><td class=\"title\"><a href=\"https://plus.maths.org/content/ramanujan\" class=\"storylink\">Ramanujan Surprises Again (2015)</a><span class=\"sitebit comhead\"> (<a href=\"from?site=maths.org\"><span class=\"sitestr\">maths.org</span></a>)</span></td></tr><tr><td colspan=\"2\"></td><td class=\"subtext\">\n",
      "        <span class=\"score\" id=\"score_22342682\">122 points</span> by <a href=\"user?id=tmbsundar\" class=\"hnuser\">tmbsundar</a> <span class=\"age\"><a href=\"item?id=22342682\">2 hours ago</a></span> <span id=\"unv_22342682\"></span> | <a href=\"hide?id=22342682&amp;goto=news\">hide</a> | <a href=\"item?id=22342682\">15&nbsp;comments</a>              </td></tr>\n",
      "      <tr class=\"spacer\" style=\"height:5px\"></tr>\n",
      "                <tr class='athing' id='22342295'>\n",
      "      <td align=\"right\" valign=\"top\" class=\"title\"><span class=\"rank\">2.</span></td>      <td valign=\"top\" class=\"votelinks\"><center><a id='up_22342295' href='vote?id=22342295&amp;how=up&amp;goto=news'><div class='votearrow' title='upvote'></div></a></center></td><td class=\"title\"><a href=\"https://www.lexaloffle.com/bbs/?tid=30631\" class=\"storylink\">Defacto: Factorio-like game in the browser for the PICO-8</a><span class=\"sitebit comhead\"> (<a href=\"from?site=lexaloffle.com\"><span class=\"sitestr\">lexaloffle.com</span></a>)</span></td></tr><tr><td colspan=\"2\"></td><td class=\"subtext\">\n",
      "        <span class=\"score\" id=\"score_22342295\">126 points</span> by <a href=\"user?id=sxp\" class=\"hnuser\">sxp</a> <span class=\"age\"><a href=\"item?id=22342295\">3 hours ago</a></span> <span id=\"unv_22342295\"></span> | <a href=\"hide?id=22342295&amp;goto=news\">hide</a> | <a href=\"item?id=22342295\">26&nbsp;comments</a>              </td></tr>\n",
      "      <tr class=\"spacer\" style=\"height:5px\"></tr>\n",
      "                <tr class='athing' id='22341983'>\n",
      "      <td align=\"right\" valign=\"top\" class=\"title\"><span class=\"rank\">3.</span></td>      <td valign=\"top\" class=\"votelinks\"><center><a id='up_22341983' href='vote?id=22341983&amp;how=up&amp;goto=news'><div class='votearrow' title='upvote'></div></a></center></td><td class=\"title\"><a href=\"http://www.runwes.com/2020/02/11/howilearnedfrench.html\" class=\"storylink\">I Learned French in 12 Months</a><span class=\"sitebit comhead\"> (<a href=\"from?site=runwes.com\"><span class=\"sitestr\">runwes.com</span></a>)</span></td></tr><tr><td colspan=\"2\"></td><td class=\"subtext\">\n",
      "        <span class=\"score\" id=\"score_22341983\">160 points</span> by <a href=\"user?id=ingve\" class=\"hnuser\">ingve</a> <span class=\"age\"><a href=\"item?id=22341983\">4 hours ago</a></span> <span id=\"unv_22341983\"></span> | <a href=\"hide?id=22341983&amp;goto=news\">hide</a> | <a href=\"item?id=22341983\">76&nbsp;comments</a>              </td></tr>\n",
      "      <tr class=\"spacer\" style=\"height:5px\"></tr>\n",
      "                <tr class='athing' id='22343285'>\n",
      "      <td align=\"right\" valign=\"top\" class=\"title\"><span class=\"rank\">4.</span></td>      <td valign=\"top\" class=\"votelinks\"><center><a id='up_22343285' href='vote?id=22343285&amp;how=up&amp;goto=news'><div class='votearrow' title='upvote'></div></a></center></td><td class=\"title\"><a href=\"https://arxiv.org/abs/1803.10228\" class=\"storylink\">Demystifying Differentiable Programming (2018)</a><span class=\"sitebit comhead\"> (<a href=\"from?site=arxiv.org\"><span class=\"sitestr\">arxiv.org</span></a>)</span></td></tr><tr><td colspan=\"2\"></td><td class=\"subtext\">\n",
      "        <span class=\"score\" id=\"score_22343285\">11 points</span> by <a href=\"user?id=noelwelsh\" class=\"hnuser\">noelwelsh</a> <span class=\"age\"><a href=\"item?id=22343285\">31 minutes ago</a></span> <span id=\"unv_22343285\"></span> | <a href=\"hide?id=22343285&amp;goto=news\">hide</a> | <a href=\"item?id=22343285\">discuss</a>              </td></tr>\n",
      "      <tr class=\"spacer\" style=\"height:5px\"></tr>\n",
      "                <tr class='athing' id='22341138'>\n",
      "      <td align=\"right\" valign=\"top\" class=\"title\"><span class=\"rank\">5.</span></td>      <td valign=\"top\" class=\"votelinks\"><center><a id='up_22341138' href='vote?id=22341138&amp;how=up&amp;goto=news'><div class='votearrow' title='upvote'></div></a></center></td><td class=\"title\"><a href=\"https://github.com/VGraupera/1on1-questions\" class=\"storylink\">1-on-1 meeting questions</a><span class=\"sitebit comhead\"> (<a href=\"from?site=github.com\"><span class=\"sitestr\">github.com</span></a>)</span></td></tr><tr><td colspan=\"2\"></td><td class=\"subtext\">\n",
      "        <span class=\"score\" id=\"score_22341138\">338 points</span> by <a href=\"user?id=yankit\" class=\"hnuser\">yankit</a> <span class=\"age\"><a href=\"item?id=22341138\">8 hours ago</a></span> <span id=\"unv_22341138\"></span> | <a href=\"hide?id=22341138&amp;goto=news\">hide</a> | <a href=\"item?id=22341138\">127&nbsp;comments</a>              </td></tr>\n",
      "      <tr class=\"spacer\" style=\"height:5px\"></tr>\n",
      "                <tr class='athing' id='22342601'>\n",
      "      <td align=\"right\" valign=\"top\" class=\"title\"><span class=\"rank\">6.</span></td>      <td valign=\"top\" class=\"votelinks\"><center><a id='up_22342601' href='vote?id=22342601&amp;how=up&amp;goto=news'><div class='votearrow' title='upvote'></div></a></center></td><td class=\"title\"><a href=\"https://theaisummer.com/Graph_Neural_Networks/\" class=\"storylink\">Graph Neural Networks – An Overview</a><span class=\"sitebit comhead\"> (<a href=\"from?site=theaisummer.com\"><span class=\"sitestr\">theaisummer.com</span></a>)</span></td></tr><tr><td colspan=\"2\"></td><td class=\"subtext\">\n",
      "        <span class=\"score\" id=\"score_22342601\">36 points</span> by <a href=\"user?id=sergioskar\" class=\"hnuser\">sergioskar</a> <span class=\"age\"><a href=\"item?id=22342601\">2 hours ago</a></span> <span id=\"unv_22342601\"></span> | <a href=\"hide?id=22342601&amp;goto=news\">hide</a> | <a href=\"item?id=22342601\">4&nbsp;comments</a>              </td></tr>\n",
      "      <tr class=\"spacer\" style=\"height:5px\"></tr>\n",
      "                <tr class='athing' id='22342493'>\n",
      "      <td align=\"right\" valign=\"top\" class=\"title\"><span class=\"rank\">7.</span></td>      <td valign=\"top\" class=\"votelinks\"><center><a id='up_22342493' href='vote?id=22342493&amp;how=up&amp;goto=news'><div class='votearrow' title='upvote'></div></a></center></td><td class=\"title\"><a href=\"https://www.fosslinux.com/29117/south-korea-switching-their-3-3-million-pcs-to-linux.htm\" class=\"storylink\">South Korea switching their 3.3M PCs to Linux</a><span class=\"sitebit comhead\"> (<a href=\"from?site=fosslinux.com\"><span class=\"sitestr\">fosslinux.com</span></a>)</span></td></tr><tr><td colspan=\"2\"></td><td class=\"subtext\">\n",
      "        <span class=\"score\" id=\"score_22342493\">144 points</span> by <a href=\"user?id=bitxbitxbitcoin\" class=\"hnuser\">bitxbitxbitcoin</a> <span class=\"age\"><a href=\"item?id=22342493\">2 hours ago</a></span> <span id=\"unv_22342493\"></span> | <a href=\"hide?id=22342493&amp;goto=news\">hide</a> | <a href=\"item?id=22342493\">44&nbsp;comments</a>              </td></tr>\n",
      "      <tr class=\"spacer\" style=\"height:5px\"></tr>\n",
      "                <tr class='athing' id='22332629'>\n",
      "      <td align=\"right\" valign=\"top\" class=\"title\"><span class=\"rank\">8.</span></td>      <td valign=\"top\" class=\"votelinks\"><center><a id='up_22332629' href='vote?id=22332629&amp;how=up&amp;goto=news'><div class='votearrow' title='upvote'></div></a></center></td><td class=\"title\"><a href=\"https://www.robinsloan.com/notes/home-cooked-app/\" class=\"storylink\">An app can be a home-cooked meal</a><span class=\"sitebit comhead\"> (<a href=\"from?site=robinsloan.com\"><span class=\"sitestr\">robinsloan.com</span></a>)</span></td></tr><tr><td colspan=\"2\"></td><td class=\"subtext\">\n",
      "        <span class=\"score\" id=\"score_22332629\">42 points</span> by <a href=\"user?id=mkeeter\" class=\"hnuser\">mkeeter</a> <span class=\"age\"><a href=\"item?id=22332629\">1 hour ago</a></span> <span id=\"unv_22332629\"></span> | <a href=\"hide?id=22332629&amp;goto=news\">hide</a> | <a href=\"item?id=22332629\">12&nbsp;comments</a>              </td></tr>\n",
      "      <tr class=\"spacer\" style=\"height:5px\"></tr>\n",
      "                <tr class='athing' id='22342800'>\n",
      "      <td align=\"right\" valign=\"top\" class=\"title\"><span class=\"rank\">9.</span></td>      <td valign=\"top\" class=\"votelinks\"><center><a id='up_22342800' href='vote?id=22342800&amp;how=up&amp;goto=news'><div class='votearrow' title='upvote'></div></a></center></td><td class=\"title\"><a href=\"https://web.archive.org/web/19990125100147/http://www.immersive.com/\" class=\"storylink\">Meme (Multitasking Extensible Messaging Environment): Multiuser Forth VR (1994)</a><span class=\"sitebit comhead\"> (<a href=\"from?site=archive.org\"><span class=\"sitestr\">archive.org</span></a>)</span></td></tr><tr><td colspan=\"2\"></td><td class=\"subtext\">\n",
      "        <span class=\"score\" id=\"score_22342800\">17 points</span> by <a href=\"user?id=DonHopkins\" class=\"hnuser\">DonHopkins</a> <span class=\"age\"><a href=\"item?id=22342800\">1 hour ago</a></span> <span id=\"unv_22342800\"></span> | <a href=\"hide?id=22342800&amp;goto=news\">hide</a> | <a href=\"item?id=22342800\">3&nbsp;comments</a>              </td></tr>\n",
      "      <tr class=\"spacer\" style=\"height:5px\"></tr>\n",
      "                <tr class='athing' id='22343276'>\n",
      "      <td align=\"right\" valign=\"top\" class=\"title\"><span class=\"rank\">10.</span></td>      <td valign=\"top\" class=\"votelinks\"><center><a id='up_22343276' href='vote?id=22343276&amp;how=up&amp;goto=news'><div class='votearrow' title='upvote'></div></a></center></td><td class=\"title\"><a href=\"https://macwright.org/2020/02/14/math-keeps-changing.html\" class=\"storylink\" rel=\"nofollow\">Math Keeps Changing</a><span class=\"sitebit comhead\"> (<a href=\"from?site=macwright.org\"><span class=\"sitestr\">macwright.org</span></a>)</span></td></tr><tr><td colspan=\"2\"></td><td class=\"subtext\">\n",
      "        <span class=\"score\" id=\"score_22343276\">5 points</span> by <a href=\"user?id=jashkenas\" class=\"hnuser\">jashkenas</a> <span class=\"age\"><a href=\"item?id=22343276\">32 minutes ago</a></span> <span id=\"unv_22343276\"></span> | <a href=\"hide?id=22343276&amp;goto=news\">hide</a> | <a href=\"item?id=22343276\">discuss</a>              </td></tr>\n",
      "      <tr class=\"spacer\" style=\"height:5px\"></tr>\n",
      "                <tr class='athing' id='22342314'>\n",
      "      <td align=\"right\" valign=\"top\" class=\"title\"><span class=\"rank\">11.</span></td>      <td valign=\"top\" class=\"votelinks\"><center><a id='up_22342314' href='vote?id=22342314&amp;how=up&amp;goto=news'><div class='votearrow' title='upvote'></div></a></center></td><td class=\"title\"><a href=\"https://www.youtube.com/watch?v=qSKBtEBRWi4\" class=\"storylink\">Hacking my arm prosthesis to plug into a synth: thought-controlled music [video]</a><span class=\"sitebit comhead\"> (<a href=\"from?site=youtube.com\"><span class=\"sitestr\">youtube.com</span></a>)</span></td></tr><tr><td colspan=\"2\"></td><td class=\"subtext\">\n",
      "        <span class=\"score\" id=\"score_22342314\">34 points</span> by <a href=\"user?id=tomduncalf\" class=\"hnuser\">tomduncalf</a> <span class=\"age\"><a href=\"item?id=22342314\">3 hours ago</a></span> <span id=\"unv_22342314\"></span> | <a href=\"hide?id=22342314&amp;goto=news\">hide</a> | <a href=\"item?id=22342314\">1&nbsp;comment</a>              </td></tr>\n",
      "      <tr class=\"spacer\" style=\"height:5px\"></tr>\n",
      "                <tr class='athing' id='22341140'>\n",
      "      <td align=\"right\" valign=\"top\" class=\"title\"><span class=\"rank\">12.</span></td>      <td valign=\"top\" class=\"votelinks\"><center><a id='up_22341140' href='vote?id=22341140&amp;how=up&amp;goto=news'><div class='votearrow' title='upvote'></div></a></center></td><td class=\"title\"><a href=\"https://umanitoba.ca/admin/human_resources/change/media/the-art-of-powerful-questions.pdf\" class=\"storylink\">The Art of Powerful Questions (2003) [pdf]</a><span class=\"sitebit comhead\"> (<a href=\"from?site=umanitoba.ca\"><span class=\"sitestr\">umanitoba.ca</span></a>)</span></td></tr><tr><td colspan=\"2\"></td><td class=\"subtext\">\n",
      "        <span class=\"score\" id=\"score_22341140\">105 points</span> by <a href=\"user?id=azizsaya\" class=\"hnuser\">azizsaya</a> <span class=\"age\"><a href=\"item?id=22341140\">8 hours ago</a></span> <span id=\"unv_22341140\"></span> | <a href=\"hide?id=22341140&amp;goto=news\">hide</a> | <a href=\"item?id=22341140\">6&nbsp;comments</a>              </td></tr>\n",
      "      <tr class=\"spacer\" style=\"height:5px\"></tr>\n",
      "                <tr class='athing' id='22342993'>\n",
      "      <td align=\"right\" valign=\"top\" class=\"title\"><span class=\"rank\">13.</span></td>      <td valign=\"top\" class=\"votelinks\"><center><a id='up_22342993' href='vote?id=22342993&amp;how=up&amp;goto=news'><div class='votearrow' title='upvote'></div></a></center></td><td class=\"title\"><a href=\"https://stacks.stanford.edu/file/druid:hb976hq8639/apr67hardwarelog.pdf\" class=\"storylink\" rel=\"nofollow\">Handwritten PDP-6 hardware log from the Stanford AI Laboratory (1967) [pdf]</a><span class=\"sitebit comhead\"> (<a href=\"from?site=stanford.edu\"><span class=\"sitestr\">stanford.edu</span></a>)</span></td></tr><tr><td colspan=\"2\"></td><td class=\"subtext\">\n",
      "        <span class=\"score\" id=\"score_22342993\">8 points</span> by <a href=\"user?id=gruseom\" class=\"hnuser\">gruseom</a> <span class=\"age\"><a href=\"item?id=22342993\">1 hour ago</a></span> <span id=\"unv_22342993\"></span> | <a href=\"hide?id=22342993&amp;goto=news\">hide</a> | <a href=\"item?id=22342993\">2&nbsp;comments</a>              </td></tr>\n",
      "      <tr class=\"spacer\" style=\"height:5px\"></tr>\n",
      "                <tr class='athing' id='22341891'>\n",
      "      <td align=\"right\" valign=\"top\" class=\"title\"><span class=\"rank\">14.</span></td>      <td valign=\"top\" class=\"votelinks\"><center><a id='up_22341891' href='vote?id=22341891&amp;how=up&amp;goto=news'><div class='votearrow' title='upvote'></div></a></center></td><td class=\"title\"><a href=\"https://www.peachpie.io/2020/02/evil-eval-2.html\" class=\"storylink\">Compiling PHP's Eval() to .NET</a><span class=\"sitebit comhead\"> (<a href=\"from?site=peachpie.io\"><span class=\"sitestr\">peachpie.io</span></a>)</span></td></tr><tr><td colspan=\"2\"></td><td class=\"subtext\">\n",
      "        <span class=\"score\" id=\"score_22341891\">36 points</span> by <a href=\"user?id=pchp\" class=\"hnuser\">pchp</a> <span class=\"age\"><a href=\"item?id=22341891\">4 hours ago</a></span> <span id=\"unv_22341891\"></span> | <a href=\"hide?id=22341891&amp;goto=news\">hide</a> | <a href=\"item?id=22341891\">5&nbsp;comments</a>              </td></tr>\n",
      "      <tr class=\"spacer\" style=\"height:5px\"></tr>\n",
      "                <tr class='athing' id='22342010'>\n",
      "      <td align=\"right\" valign=\"top\" class=\"title\"><span class=\"rank\">15.</span></td>      <td valign=\"top\" class=\"votelinks\"><center><a id='up_22342010' href='vote?id=22342010&amp;how=up&amp;goto=news'><div class='votearrow' title='upvote'></div></a></center></td><td class=\"title\"><a href=\"https://parentology.com/its-official-screens-are-bad-for-young-brains/\" class=\"storylink\">Screens Are Bad for Young Brains</a><span class=\"sitebit comhead\"> (<a href=\"from?site=parentology.com\"><span class=\"sitestr\">parentology.com</span></a>)</span></td></tr><tr><td colspan=\"2\"></td><td class=\"subtext\">\n",
      "        <span class=\"score\" id=\"score_22342010\">68 points</span> by <a href=\"user?id=laurex\" class=\"hnuser\">laurex</a> <span class=\"age\"><a href=\"item?id=22342010\">4 hours ago</a></span> <span id=\"unv_22342010\"></span> | <a href=\"hide?id=22342010&amp;goto=news\">hide</a> | <a href=\"item?id=22342010\">65&nbsp;comments</a>              </td></tr>\n",
      "      <tr class=\"spacer\" style=\"height:5px\"></tr>\n",
      "                <tr class='athing' id='22343170'>\n",
      "      <td align=\"right\" valign=\"top\" class=\"title\"><span class=\"rank\">16.</span></td>      <td valign=\"top\" class=\"votelinks\"><center><a id='up_22343170' href='vote?id=22343170&amp;how=up&amp;goto=news'><div class='votearrow' title='upvote'></div></a></center></td><td class=\"title\"><a href=\"http://fdaaa.trialstracker.net/?\" class=\"storylink\" rel=\"nofollow\">Fdaaa Tracker – Tracks failures to report results of clinical trials</a><span class=\"sitebit comhead\"> (<a href=\"from?site=trialstracker.net\"><span class=\"sitestr\">trialstracker.net</span></a>)</span></td></tr><tr><td colspan=\"2\"></td><td class=\"subtext\">\n",
      "        <span class=\"score\" id=\"score_22343170\">5 points</span> by <a href=\"user?id=olvy0\" class=\"hnuser\">olvy0</a> <span class=\"age\"><a href=\"item?id=22343170\">53 minutes ago</a></span> <span id=\"unv_22343170\"></span> | <a href=\"hide?id=22343170&amp;goto=news\">hide</a> | <a href=\"item?id=22343170\">1&nbsp;comment</a>              </td></tr>\n",
      "      <tr class=\"spacer\" style=\"height:5px\"></tr>\n",
      "                <tr class='athing' id='22322735'>\n",
      "      <td align=\"right\" valign=\"top\" class=\"title\"><span class=\"rank\">17.</span></td>      <td valign=\"top\" class=\"votelinks\"><center><a id='up_22322735' href='vote?id=22322735&amp;how=up&amp;goto=news'><div class='votearrow' title='upvote'></div></a></center></td><td class=\"title\"><a href=\"https://solitudes.qmul.ac.uk/blog/solitude-and-sensory-deprivation-and-johnny-cash/\" class=\"storylink\" rel=\"nofollow\">Solitude and Sensory Deprivation and Johnny Cash (2019)</a><span class=\"sitebit comhead\"> (<a href=\"from?site=qmul.ac.uk\"><span class=\"sitestr\">qmul.ac.uk</span></a>)</span></td></tr><tr><td colspan=\"2\"></td><td class=\"subtext\">\n",
      "        <span class=\"score\" id=\"score_22322735\">12 points</span> by <a href=\"user?id=benbreen\" class=\"hnuser\">benbreen</a> <span class=\"age\"><a href=\"item?id=22322735\">2 hours ago</a></span> <span id=\"unv_22322735\"></span> | <a href=\"hide?id=22322735&amp;goto=news\">hide</a> | <a href=\"item?id=22322735\">1&nbsp;comment</a>              </td></tr>\n",
      "      <tr class=\"spacer\" style=\"height:5px\"></tr>\n",
      "                <tr class='athing' id='22339611'>\n",
      "      <td align=\"right\" valign=\"top\" class=\"title\"><span class=\"rank\">18.</span></td>      <td valign=\"top\" class=\"votelinks\"><center><a id='up_22339611' href='vote?id=22339611&amp;how=up&amp;goto=news'><div class='votearrow' title='upvote'></div></a></center></td><td class=\"title\"><a href=\"https://theoutline.com/post/8659/the-astor-place-opera-house-riot-of-1849-was-lit\" class=\"storylink\">The Astor Place Opera House Riot of 1849</a><span class=\"sitebit comhead\"> (<a href=\"from?site=theoutline.com\"><span class=\"sitestr\">theoutline.com</span></a>)</span></td></tr><tr><td colspan=\"2\"></td><td class=\"subtext\">\n",
      "        <span class=\"score\" id=\"score_22339611\">9 points</span> by <a href=\"user?id=lermontov\" class=\"hnuser\">lermontov</a> <span class=\"age\"><a href=\"item?id=22339611\">2 hours ago</a></span> <span id=\"unv_22339611\"></span> | <a href=\"hide?id=22339611&amp;goto=news\">hide</a> | <a href=\"item?id=22339611\">1&nbsp;comment</a>              </td></tr>\n",
      "      <tr class=\"spacer\" style=\"height:5px\"></tr>\n",
      "                <tr class='athing' id='22341973'>\n",
      "      <td align=\"right\" valign=\"top\" class=\"title\"><span class=\"rank\">19.</span></td>      <td valign=\"top\" class=\"votelinks\"><center><a id='up_22341973' href='vote?id=22341973&amp;how=up&amp;goto=news'><div class='votearrow' title='upvote'></div></a></center></td><td class=\"title\"><a href=\"https://apolloapp.io/\" class=\"storylink\">Apollo: An iOS Reddit app built for power and speed</a><span class=\"sitebit comhead\"> (<a href=\"from?site=apolloapp.io\"><span class=\"sitestr\">apolloapp.io</span></a>)</span></td></tr><tr><td colspan=\"2\"></td><td class=\"subtext\">\n",
      "        <span class=\"score\" id=\"score_22341973\">121 points</span> by <a href=\"user?id=nvr219\" class=\"hnuser\">nvr219</a> <span class=\"age\"><a href=\"item?id=22341973\">4 hours ago</a></span> <span id=\"unv_22341973\"></span> | <a href=\"hide?id=22341973&amp;goto=news\">hide</a> | <a href=\"item?id=22341973\">67&nbsp;comments</a>              </td></tr>\n",
      "      <tr class=\"spacer\" style=\"height:5px\"></tr>\n",
      "                <tr class='athing' id='22342266'>\n",
      "      <td align=\"right\" valign=\"top\" class=\"title\"><span class=\"rank\">20.</span></td>      <td valign=\"top\" class=\"votelinks\"><center><a id='up_22342266' href='vote?id=22342266&amp;how=up&amp;goto=news'><div class='votearrow' title='upvote'></div></a></center></td><td class=\"title\"><a href=\"https://www.cs.dartmouth.edu/~doug/IX/\" class=\"storylink\">The IX Multilevel-Secure Unix System (1992)</a><span class=\"sitebit comhead\"> (<a href=\"from?site=dartmouth.edu\"><span class=\"sitestr\">dartmouth.edu</span></a>)</span></td></tr><tr><td colspan=\"2\"></td><td class=\"subtext\">\n",
      "        <span class=\"score\" id=\"score_22342266\">15 points</span> by <a href=\"user?id=kick\" class=\"hnuser\">kick</a> <span class=\"age\"><a href=\"item?id=22342266\">3 hours ago</a></span> <span id=\"unv_22342266\"></span> | <a href=\"hide?id=22342266&amp;goto=news\">hide</a> | <a href=\"item?id=22342266\">3&nbsp;comments</a>              </td></tr>\n",
      "      <tr class=\"spacer\" style=\"height:5px\"></tr>\n",
      "                <tr class='athing' id='22340398'>\n",
      "      <td align=\"right\" valign=\"top\" class=\"title\"><span class=\"rank\">21.</span></td>      <td valign=\"top\" class=\"votelinks\"><center><a id='up_22340398' href='vote?id=22340398&amp;how=up&amp;goto=news'><div class='votearrow' title='upvote'></div></a></center></td><td class=\"title\"><a href=\"https://paperd.ink/\" class=\"storylink\">Show HN: Paperd.Ink – A hackable e-paper display</a><span class=\"sitebit comhead\"> (<a href=\"from?site=paperd.ink\"><span class=\"sitestr\">paperd.ink</span></a>)</span></td></tr><tr><td colspan=\"2\"></td><td class=\"subtext\">\n",
      "        <span class=\"score\" id=\"score_22340398\">184 points</span> by <a href=\"user?id=robertlangdon\" class=\"hnuser\">robertlangdon</a> <span class=\"age\"><a href=\"item?id=22340398\">12 hours ago</a></span> <span id=\"unv_22340398\"></span> | <a href=\"hide?id=22340398&amp;goto=news\">hide</a> | <a href=\"item?id=22340398\">65&nbsp;comments</a>              </td></tr>\n",
      "      <tr class=\"spacer\" style=\"height:5px\"></tr>\n",
      "                <tr class='athing' id='22340367'>\n",
      "      <td align=\"right\" valign=\"top\" class=\"title\"><span class=\"rank\">22.</span></td>      <td valign=\"top\" class=\"votelinks\"><center><a id='up_22340367' href='vote?id=22340367&amp;how=up&amp;goto=news'><div class='votearrow' title='upvote'></div></a></center></td><td class=\"title\"><a href=\"http://canonical.org/%7Ekragen/sw/dev3/paperalgo\" class=\"storylink\" rel=\"nofollow\">A Paper Algorithm Notation (2014)</a><span class=\"sitebit comhead\"> (<a href=\"from?site=canonical.org\"><span class=\"sitestr\">canonical.org</span></a>)</span></td></tr><tr><td colspan=\"2\"></td><td class=\"subtext\">\n",
      "        <span class=\"score\" id=\"score_22340367\">11 points</span> by <a href=\"user?id=kick\" class=\"hnuser\">kick</a> <span class=\"age\"><a href=\"item?id=22340367\">2 hours ago</a></span> <span id=\"unv_22340367\"></span> | <a href=\"hide?id=22340367&amp;goto=news\">hide</a> | <a href=\"item?id=22340367\">4&nbsp;comments</a>              </td></tr>\n",
      "      <tr class=\"spacer\" style=\"height:5px\"></tr>\n",
      "                <tr class='athing' id='22340027'>\n",
      "      <td align=\"right\" valign=\"top\" class=\"title\"><span class=\"rank\">23.</span></td>      <td valign=\"top\" class=\"votelinks\"><center><a id='up_22340027' href='vote?id=22340027&amp;how=up&amp;goto=news'><div class='votearrow' title='upvote'></div></a></center></td><td class=\"title\"><a href=\"https://marcan.st/2016/05/crossflashing-the-fujitsu-d2607/\" class=\"storylink\">Crossflashing the Fujitsu D2607 (2016)</a><span class=\"sitebit comhead\"> (<a href=\"from?site=marcan.st\"><span class=\"sitestr\">marcan.st</span></a>)</span></td></tr><tr><td colspan=\"2\"></td><td class=\"subtext\">\n",
      "        <span class=\"score\" id=\"score_22340027\">16 points</span> by <a href=\"user?id=luu\" class=\"hnuser\">luu</a> <span class=\"age\"><a href=\"item?id=22340027\">3 hours ago</a></span> <span id=\"unv_22340027\"></span> | <a href=\"hide?id=22340027&amp;goto=news\">hide</a> | <a href=\"item?id=22340027\">discuss</a>              </td></tr>\n",
      "      <tr class=\"spacer\" style=\"height:5px\"></tr>\n",
      "                <tr class='athing' id='22340735'>\n",
      "      <td align=\"right\" valign=\"top\" class=\"title\"><span class=\"rank\">24.</span></td>      <td valign=\"top\" class=\"votelinks\"><center><a id='up_22340735' href='vote?id=22340735&amp;how=up&amp;goto=news'><div class='votearrow' title='upvote'></div></a></center></td><td class=\"title\"><a href=\"https://medium.com/cantors-paradise/alan-turing-in-america-db0104c965dc\" class=\"storylink\">Alan Turing in America</a><span class=\"sitebit comhead\"> (<a href=\"from?site=medium.com\"><span class=\"sitestr\">medium.com</span></a>)</span></td></tr><tr><td colspan=\"2\"></td><td class=\"subtext\">\n",
      "        <span class=\"score\" id=\"score_22340735\">50 points</span> by <a href=\"user?id=jorgenveisdal\" class=\"hnuser\">jorgenveisdal</a> <span class=\"age\"><a href=\"item?id=22340735\">5 hours ago</a></span> <span id=\"unv_22340735\"></span> | <a href=\"hide?id=22340735&amp;goto=news\">hide</a> | <a href=\"item?id=22340735\">15&nbsp;comments</a>              </td></tr>\n",
      "      <tr class=\"spacer\" style=\"height:5px\"></tr>\n",
      "                <tr class='athing' id='22340632'>\n",
      "      <td align=\"right\" valign=\"top\" class=\"title\"><span class=\"rank\">25.</span></td>      <td valign=\"top\" class=\"votelinks\"><center><a id='up_22340632' href='vote?id=22340632&amp;how=up&amp;goto=news'><div class='votearrow' title='upvote'></div></a></center></td><td class=\"title\"><a href=\"https://github.com/mjhorvath/Datsville\" class=\"storylink\" rel=\"nofollow\">Datsville – a Lego-inspired city started in 1999 by LUGNET using the LDraw CAD</a><span class=\"sitebit comhead\"> (<a href=\"from?site=github.com\"><span class=\"sitestr\">github.com</span></a>)</span></td></tr><tr><td colspan=\"2\"></td><td class=\"subtext\">\n",
      "        <span class=\"score\" id=\"score_22340632\">6 points</span> by <a href=\"user?id=app4soft\" class=\"hnuser\">app4soft</a> <span class=\"age\"><a href=\"item?id=22340632\">1 hour ago</a></span> <span id=\"unv_22340632\"></span> | <a href=\"hide?id=22340632&amp;goto=news\">hide</a> | <a href=\"item?id=22340632\">2&nbsp;comments</a>              </td></tr>\n",
      "      <tr class=\"spacer\" style=\"height:5px\"></tr>\n",
      "                <tr class='athing' id='22336439'>\n",
      "      <td align=\"right\" valign=\"top\" class=\"title\"><span class=\"rank\">26.</span></td>      <td valign=\"top\" class=\"votelinks\"><center><a id='up_22336439' href='vote?id=22336439&amp;how=up&amp;goto=news'><div class='votearrow' title='upvote'></div></a></center></td><td class=\"title\"><a href=\"https://googleprojectzero.blogspot.com/2020/02/escaping-chrome-sandbox-with-ridl.html\" class=\"storylink\">Escaping the Chrome Sandbox with RIDL</a><span class=\"sitebit comhead\"> (<a href=\"from?site=googleprojectzero.blogspot.com\"><span class=\"sitestr\">googleprojectzero.blogspot.com</span></a>)</span></td></tr><tr><td colspan=\"2\"></td><td class=\"subtext\">\n",
      "        <span class=\"score\" id=\"score_22336439\">33 points</span> by <a href=\"user?id=tptacek\" class=\"hnuser\">tptacek</a> <span class=\"age\"><a href=\"item?id=22336439\">6 hours ago</a></span> <span id=\"unv_22336439\"></span> | <a href=\"hide?id=22336439&amp;goto=news\">hide</a> | <a href=\"item?id=22336439\">9&nbsp;comments</a>              </td></tr>\n",
      "      <tr class=\"spacer\" style=\"height:5px\"></tr>\n",
      "                <tr class='athing' id='22338997'>\n",
      "      <td align=\"right\" valign=\"top\" class=\"title\"><span class=\"rank\">27.</span></td>      <td valign=\"top\" class=\"votelinks\"><center><a id='up_22338997' href='vote?id=22338997&amp;how=up&amp;goto=news'><div class='votearrow' title='upvote'></div></a></center></td><td class=\"title\"><a href=\"https://aeon.co/ideas/boredom-is-but-a-window-to-a-sunny-day-beyond-the-gloom\" class=\"storylink\">Boredom is but a window to a sunny day beyond the gloom</a><span class=\"sitebit comhead\"> (<a href=\"from?site=aeon.co\"><span class=\"sitestr\">aeon.co</span></a>)</span></td></tr><tr><td colspan=\"2\"></td><td class=\"subtext\">\n",
      "        <span class=\"score\" id=\"score_22338997\">60 points</span> by <a href=\"user?id=Petiver\" class=\"hnuser\">Petiver</a> <span class=\"age\"><a href=\"item?id=22338997\">8 hours ago</a></span> <span id=\"unv_22338997\"></span> | <a href=\"hide?id=22338997&amp;goto=news\">hide</a> | <a href=\"item?id=22338997\">8&nbsp;comments</a>              </td></tr>\n",
      "      <tr class=\"spacer\" style=\"height:5px\"></tr>\n",
      "                <tr class='athing' id='22339190'>\n",
      "      <td align=\"right\" valign=\"top\" class=\"title\"><span class=\"rank\">28.</span></td>      <td valign=\"top\" class=\"votelinks\"><center><a id='up_22339190' href='vote?id=22339190&amp;how=up&amp;goto=news'><div class='votearrow' title='upvote'></div></a></center></td><td class=\"title\"><a href=\"https://hbr.org/1983/09/moral-mazes-bureaucracy-and-managerial-work\" class=\"storylink\">Moral Mazes: Bureaucracy and Managerial Work (1983)</a><span class=\"sitebit comhead\"> (<a href=\"from?site=hbr.org\"><span class=\"sitestr\">hbr.org</span></a>)</span></td></tr><tr><td colspan=\"2\"></td><td class=\"subtext\">\n",
      "        <span class=\"score\" id=\"score_22339190\">42 points</span> by <a href=\"user?id=luu\" class=\"hnuser\">luu</a> <span class=\"age\"><a href=\"item?id=22339190\">7 hours ago</a></span> <span id=\"unv_22339190\"></span> | <a href=\"hide?id=22339190&amp;goto=news\">hide</a> | <a href=\"item?id=22339190\">10&nbsp;comments</a>              </td></tr>\n",
      "      <tr class=\"spacer\" style=\"height:5px\"></tr>\n",
      "                <tr class='athing' id='22340972'>\n",
      "      <td align=\"right\" valign=\"top\" class=\"title\"><span class=\"rank\">29.</span></td>      <td valign=\"top\" class=\"votelinks\"><center><a id='up_22340972' href='vote?id=22340972&amp;how=up&amp;goto=news'><div class='votearrow' title='upvote'></div></a></center></td><td class=\"title\"><a href=\"https://socialscience.one/blog/unprecedented-facebook-urls-dataset-now-available-research-through-social-science-one\" class=\"storylink\">Facebook URLs Dataset Now Available for Academic Research</a><span class=\"sitebit comhead\"> (<a href=\"from?site=socialscience.one\"><span class=\"sitestr\">socialscience.one</span></a>)</span></td></tr><tr><td colspan=\"2\"></td><td class=\"subtext\">\n",
      "        <span class=\"score\" id=\"score_22340972\">65 points</span> by <a href=\"user?id=metahost\" class=\"hnuser\">metahost</a> <span class=\"age\"><a href=\"item?id=22340972\">9 hours ago</a></span> <span id=\"unv_22340972\"></span> | <a href=\"hide?id=22340972&amp;goto=news\">hide</a> | <a href=\"item?id=22340972\">10&nbsp;comments</a>              </td></tr>\n",
      "      <tr class=\"spacer\" style=\"height:5px\"></tr>\n",
      "                <tr class='athing' id='22325169'>\n",
      "      <td align=\"right\" valign=\"top\" class=\"title\"><span class=\"rank\">30.</span></td>      <td valign=\"top\" class=\"votelinks\"><center><a id='up_22325169' href='vote?id=22325169&amp;how=up&amp;goto=news'><div class='votearrow' title='upvote'></div></a></center></td><td class=\"title\"><a href=\"https://engineering.mongodb.com/post/transpiling-between-any-programming-languages-part-1\" class=\"storylink\">Transpiling between any programming languages (2019)</a><span class=\"sitebit comhead\"> (<a href=\"from?site=mongodb.com\"><span class=\"sitestr\">mongodb.com</span></a>)</span></td></tr><tr><td colspan=\"2\"></td><td class=\"subtext\">\n",
      "        <span class=\"score\" id=\"score_22325169\">50 points</span> by <a href=\"user?id=chrisseaton\" class=\"hnuser\">chrisseaton</a> <span class=\"age\"><a href=\"item?id=22325169\">9 hours ago</a></span> <span id=\"unv_22325169\"></span> | <a href=\"hide?id=22325169&amp;goto=news\">hide</a> | <a href=\"item?id=22325169\">28&nbsp;comments</a>              </td></tr>\n",
      "      <tr class=\"spacer\" style=\"height:5px\"></tr>\n",
      "            <tr class=\"morespace\" style=\"height:10px\"></tr><tr><td colspan=\"2\"></td><td class=\"title\"><a href=\"news?p=2\" class=\"morelink\" rel=\"next\">More</a></td></tr>\n",
      "  </table>\n",
      "</td></tr>\n",
      "<tr><td><img src=\"s.gif\" height=\"10\" width=\"0\"><table width=\"100%\" cellspacing=\"0\" cellpadding=\"1\"><tr><td bgcolor=\"#ff6600\"></td></tr></table><br><center><a href=\"https://www.ycombinator.com/apply/\">\n",
      "        Applications are open for YC Summer 2020\n",
      "      </a></center><br><center><span class=\"yclinks\"><a href=\"newsguidelines.html\">Guidelines</a>\n",
      "        | <a href=\"newsfaq.html\">FAQ</a>\n",
      "        | <a href=\"mailto:hn@ycombinator.com\">Support</a>\n",
      "        | <a href=\"https://github.com/HackerNews/API\">API</a>\n",
      "        | <a href=\"security.html\">Security</a>\n",
      "        | <a href=\"lists\">Lists</a>\n",
      "        | <a href=\"bookmarklet.html\" rel=\"nofollow\">Bookmarklet</a>\n",
      "        | <a href=\"http://www.ycombinator.com/legal/\">Legal</a>\n",
      "        | <a href=\"http://www.ycombinator.com/apply/\">Apply to YC</a>\n",
      "        | <a href=\"mailto:hn@ycombinator.com\">Contact</a></span><br><br><form method=\"get\" action=\"//hn.algolia.com/\">Search:\n",
      "          <input type=\"text\" name=\"q\" value=\"\" size=\"17\" autocorrect=\"off\" spellcheck=\"false\" autocapitalize=\"off\" autocomplete=\"false\"></form>\n",
      "            </center></td></tr>\n",
      "      </table></center></body><script type='text/javascript' src='hn.js?GvtQ9Pb5xKMYZzmICAOq'></script></html>\n",
      "\n"
     ]
    }
   ],
   "source": [
    "import requests\n",
    "\n",
    "# Fetch a web page\n",
    "r = requests.get(\"https://news.ycombinator.com\")\n",
    "print(r.text)"
   ]
  },
  {
   "cell_type": "code",
   "execution_count": null,
   "metadata": {},
   "outputs": [],
   "source": [
    "import re\n",
    "\n",
    "# Remove HTML tags using RegEx\n",
    "pattern = re.compile(r'<.*?>')  # tags look like <...>\n",
    "print(pattern.sub('', r.text))  # replace them with blank"
   ]
  },
  {
   "cell_type": "code",
   "execution_count": 9,
   "metadata": {},
   "outputs": [
    {
     "name": "stdout",
     "output_type": "stream",
     "text": [
      "\n",
      "        \n",
      "          \n",
      "        Hacker News\n",
      "        \n",
      "                  Hacker News\n",
      "              new | past | comments | ask | show | jobs | submit            \n",
      "                              login\n",
      "                          \n",
      "              \n",
      "\n",
      "              \n",
      "      1.      Ramanujan Surprises Again (2015) (maths.org)\n",
      "        122 points by tmbsundar 2 hours ago  | hide | 15 comments              \n",
      "      \n",
      "                \n",
      "      2.      Defacto: Factorio-like game in the browser for the PICO-8 (lexaloffle.com)\n",
      "        126 points by sxp 3 hours ago  | hide | 26 comments              \n",
      "      \n",
      "                \n",
      "      3.      I Learned French in 12 Months (runwes.com)\n",
      "        160 points by ingve 4 hours ago  | hide | 76 comments              \n",
      "      \n",
      "                \n",
      "      4.      Demystifying Differentiable Programming (2018) (arxiv.org)\n",
      "        11 points by noelwelsh 31 minutes ago  | hide | discuss              \n",
      "      \n",
      "                \n",
      "      5.      1-on-1 meeting questions (github.com)\n",
      "        338 points by yankit 8 hours ago  | hide | 127 comments              \n",
      "      \n",
      "                \n",
      "      6.      Graph Neural Networks – An Overview (theaisummer.com)\n",
      "        36 points by sergioskar 2 hours ago  | hide | 4 comments              \n",
      "      \n",
      "                \n",
      "      7.      South Korea switching their 3.3M PCs to Linux (fosslinux.com)\n",
      "        144 points by bitxbitxbitcoin 2 hours ago  | hide | 44 comments              \n",
      "      \n",
      "                \n",
      "      8.      An app can be a home-cooked meal (robinsloan.com)\n",
      "        42 points by mkeeter 1 hour ago  | hide | 12 comments              \n",
      "      \n",
      "                \n",
      "      9.      Meme (Multitasking Extensible Messaging Environment): Multiuser Forth VR (1994) (archive.org)\n",
      "        17 points by DonHopkins 1 hour ago  | hide | 3 comments              \n",
      "      \n",
      "                \n",
      "      10.      Math Keeps Changing (macwright.org)\n",
      "        5 points by jashkenas 32 minutes ago  | hide | discuss              \n",
      "      \n",
      "                \n",
      "      11.      Hacking my arm prosthesis to plug into a synth: thought-controlled music [video] (youtube.com)\n",
      "        34 points by tomduncalf 3 hours ago  | hide | 1 comment              \n",
      "      \n",
      "                \n",
      "      12.      The Art of Powerful Questions (2003) [pdf] (umanitoba.ca)\n",
      "        105 points by azizsaya 8 hours ago  | hide | 6 comments              \n",
      "      \n",
      "                \n",
      "      13.      Handwritten PDP-6 hardware log from the Stanford AI Laboratory (1967) [pdf] (stanford.edu)\n",
      "        8 points by gruseom 1 hour ago  | hide | 2 comments              \n",
      "      \n",
      "                \n",
      "      14.      Compiling PHP's Eval() to .NET (peachpie.io)\n",
      "        36 points by pchp 4 hours ago  | hide | 5 comments              \n",
      "      \n",
      "                \n",
      "      15.      Screens Are Bad for Young Brains (parentology.com)\n",
      "        68 points by laurex 4 hours ago  | hide | 65 comments              \n",
      "      \n",
      "                \n",
      "      16.      Fdaaa Tracker – Tracks failures to report results of clinical trials (trialstracker.net)\n",
      "        5 points by olvy0 53 minutes ago  | hide | 1 comment              \n",
      "      \n",
      "                \n",
      "      17.      Solitude and Sensory Deprivation and Johnny Cash (2019) (qmul.ac.uk)\n",
      "        12 points by benbreen 2 hours ago  | hide | 1 comment              \n",
      "      \n",
      "                \n",
      "      18.      The Astor Place Opera House Riot of 1849 (theoutline.com)\n",
      "        9 points by lermontov 2 hours ago  | hide | 1 comment              \n",
      "      \n",
      "                \n",
      "      19.      Apollo: An iOS Reddit app built for power and speed (apolloapp.io)\n",
      "        121 points by nvr219 4 hours ago  | hide | 67 comments              \n",
      "      \n",
      "                \n",
      "      20.      The IX Multilevel-Secure Unix System (1992) (dartmouth.edu)\n",
      "        15 points by kick 3 hours ago  | hide | 3 comments              \n",
      "      \n",
      "                \n",
      "      21.      Show HN: Paperd.Ink – A hackable e-paper display (paperd.ink)\n",
      "        184 points by robertlangdon 12 hours ago  | hide | 65 comments              \n",
      "      \n",
      "                \n",
      "      22.      A Paper Algorithm Notation (2014) (canonical.org)\n",
      "        11 points by kick 2 hours ago  | hide | 4 comments              \n",
      "      \n",
      "                \n",
      "      23.      Crossflashing the Fujitsu D2607 (2016) (marcan.st)\n",
      "        16 points by luu 3 hours ago  | hide | discuss              \n",
      "      \n",
      "                \n",
      "      24.      Alan Turing in America (medium.com)\n",
      "        50 points by jorgenveisdal 5 hours ago  | hide | 15 comments              \n",
      "      \n",
      "                \n",
      "      25.      Datsville – a Lego-inspired city started in 1999 by LUGNET using the LDraw CAD (github.com)\n",
      "        6 points by app4soft 1 hour ago  | hide | 2 comments              \n",
      "      \n",
      "                \n",
      "      26.      Escaping the Chrome Sandbox with RIDL (googleprojectzero.blogspot.com)\n",
      "        33 points by tptacek 6 hours ago  | hide | 9 comments              \n",
      "      \n",
      "                \n",
      "      27.      Boredom is but a window to a sunny day beyond the gloom (aeon.co)\n",
      "        60 points by Petiver 8 hours ago  | hide | 8 comments              \n",
      "      \n",
      "                \n",
      "      28.      Moral Mazes: Bureaucracy and Managerial Work (1983) (hbr.org)\n",
      "        42 points by luu 7 hours ago  | hide | 10 comments              \n",
      "      \n",
      "                \n",
      "      29.      Facebook URLs Dataset Now Available for Academic Research (socialscience.one)\n",
      "        65 points by metahost 9 hours ago  | hide | 10 comments              \n",
      "      \n",
      "                \n",
      "      30.      Transpiling between any programming languages (2019) (mongodb.com)\n",
      "        50 points by chrisseaton 9 hours ago  | hide | 28 comments              \n",
      "      \n",
      "            More\n",
      "  \n",
      "\n",
      "\n",
      "        Applications are open for YC Summer 2020\n",
      "      Guidelines\n",
      "        | FAQ\n",
      "        | Support\n",
      "        | API\n",
      "        | Security\n",
      "        | Lists\n",
      "        | Bookmarklet\n",
      "        | Legal\n",
      "        | Apply to YC\n",
      "        | ContactSearch:\n",
      "          \n",
      "            \n",
      "      \n",
      "\n"
     ]
    }
   ],
   "source": [
    "from bs4 import BeautifulSoup\n",
    "\n",
    "# Remove HTML tags using Beautiful Soup library\n",
    "soup = BeautifulSoup(r.text, \"html5lib\")\n",
    "print(soup.get_text())"
   ]
  },
  {
   "cell_type": "code",
   "execution_count": 10,
   "metadata": {
    "scrolled": true
   },
   "outputs": [
    {
     "data": {
      "text/plain": [
       "<tr class=\"athing\" id=\"22342682\">\n",
       "      <td align=\"right\" class=\"title\" valign=\"top\"><span class=\"rank\">1.</span></td>      <td class=\"votelinks\" valign=\"top\"><center><a href=\"vote?id=22342682&amp;how=up&amp;goto=news\" id=\"up_22342682\"><div class=\"votearrow\" title=\"upvote\"></div></a></center></td><td class=\"title\"><a class=\"storylink\" href=\"https://plus.maths.org/content/ramanujan\">Ramanujan Surprises Again (2015)</a><span class=\"sitebit comhead\"> (<a href=\"from?site=maths.org\"><span class=\"sitestr\">maths.org</span></a>)</span></td></tr>"
      ]
     },
     "execution_count": 10,
     "metadata": {},
     "output_type": "execute_result"
    }
   ],
   "source": [
    "# Find all articles\n",
    "summaries = soup.find_all(\"tr\", class_=\"athing\")\n",
    "summaries[0]"
   ]
  },
  {
   "cell_type": "code",
   "execution_count": 11,
   "metadata": {},
   "outputs": [
    {
     "data": {
      "text/plain": [
       "'Ramanujan Surprises Again (2015)'"
      ]
     },
     "execution_count": 11,
     "metadata": {},
     "output_type": "execute_result"
    }
   ],
   "source": [
    "# Extract title\n",
    "summaries[0].find(\"a\", class_=\"storylink\").get_text().strip()"
   ]
  },
  {
   "cell_type": "code",
   "execution_count": 12,
   "metadata": {},
   "outputs": [
    {
     "name": "stdout",
     "output_type": "stream",
     "text": [
      "30 Article summaries found. Sample:\n",
      "Ramanujan Surprises Again (2015)\n"
     ]
    }
   ],
   "source": [
    "# Find all articles, extract titles\n",
    "articles = []\n",
    "summaries = soup.find_all(\"tr\", class_=\"athing\")\n",
    "for summary in summaries:\n",
    "    title = summary.find(\"a\", class_=\"storylink\").get_text().strip()\n",
    "    articles.append((title))\n",
    "\n",
    "print(len(articles), \"Article summaries found. Sample:\")\n",
    "print(articles[0])"
   ]
  },
  {
   "cell_type": "markdown",
   "metadata": {
    "collapsed": true
   },
   "source": [
    "## Normalization"
   ]
  },
  {
   "cell_type": "markdown",
   "metadata": {},
   "source": [
    "### Case Normalization"
   ]
  },
  {
   "cell_type": "code",
   "execution_count": 13,
   "metadata": {},
   "outputs": [
    {
     "name": "stdout",
     "output_type": "stream",
     "text": [
      "The first time you see The Second Renaissance it may look boring. Look at it at least twice and definitely watch part 2. It will change your view of the matrix. Are the human people the ones who started the war ? Is AI a bad thing ?\n"
     ]
    }
   ],
   "source": [
    "# Sample text\n",
    "text = \"The first time you see The Second Renaissance it may look boring. Look at it at least twice and definitely watch part 2. It will change your view of the matrix. Are the human people the ones who started the war ? Is AI a bad thing ?\"\n",
    "print(text)"
   ]
  },
  {
   "cell_type": "code",
   "execution_count": 14,
   "metadata": {},
   "outputs": [
    {
     "name": "stdout",
     "output_type": "stream",
     "text": [
      "the first time you see the second renaissance it may look boring. look at it at least twice and definitely watch part 2. it will change your view of the matrix. are the human people the ones who started the war ? is ai a bad thing ?\n"
     ]
    }
   ],
   "source": [
    "# Convert to lowercase\n",
    "text = text.lower() \n",
    "print(text)"
   ]
  },
  {
   "cell_type": "markdown",
   "metadata": {},
   "source": [
    "### Punctuation Removal"
   ]
  },
  {
   "cell_type": "code",
   "execution_count": 15,
   "metadata": {},
   "outputs": [
    {
     "name": "stdout",
     "output_type": "stream",
     "text": [
      "the first time you see the second renaissance it may look boring  look at it at least twice and definitely watch part 2  it will change your view of the matrix  are the human people the ones who started the war   is ai a bad thing  \n"
     ]
    }
   ],
   "source": [
    "import re\n",
    "\n",
    "# Remove punctuation characters\n",
    "text = re.sub(r\"[^a-zA-Z0-9]\", \" \", text) \n",
    "print(text)"
   ]
  },
  {
   "cell_type": "markdown",
   "metadata": {},
   "source": [
    "## Tokenization"
   ]
  },
  {
   "cell_type": "code",
   "execution_count": 16,
   "metadata": {},
   "outputs": [
    {
     "name": "stdout",
     "output_type": "stream",
     "text": [
      "['the', 'first', 'time', 'you', 'see', 'the', 'second', 'renaissance', 'it', 'may', 'look', 'boring', 'look', 'at', 'it', 'at', 'least', 'twice', 'and', 'definitely', 'watch', 'part', '2', 'it', 'will', 'change', 'your', 'view', 'of', 'the', 'matrix', 'are', 'the', 'human', 'people', 'the', 'ones', 'who', 'started', 'the', 'war', 'is', 'ai', 'a', 'bad', 'thing']\n"
     ]
    }
   ],
   "source": [
    "# Split text into tokens (words)\n",
    "words = text.split()\n",
    "print(words)"
   ]
  },
  {
   "cell_type": "markdown",
   "metadata": {},
   "source": [
    "### NLTK: Natural Language ToolKit"
   ]
  },
  {
   "cell_type": "code",
   "execution_count": 17,
   "metadata": {},
   "outputs": [],
   "source": [
    "import os\n",
    "import nltk\n",
    "nltk.data.path.append(os.path.join(os.getcwd(), \"nltk_data\"))"
   ]
  },
  {
   "cell_type": "code",
   "execution_count": 18,
   "metadata": {},
   "outputs": [
    {
     "name": "stdout",
     "output_type": "stream",
     "text": [
      "Dr. Smith graduated from the University of Washington. He later started an analytics firm called Lux, which catered to enterprise customers.\n"
     ]
    }
   ],
   "source": [
    "# Another sample text\n",
    "text = \"Dr. Smith graduated from the University of Washington. He later started an analytics firm called Lux, which catered to enterprise customers.\"\n",
    "print(text)"
   ]
  },
  {
   "cell_type": "code",
   "execution_count": 19,
   "metadata": {},
   "outputs": [
    {
     "name": "stdout",
     "output_type": "stream",
     "text": [
      "['Dr.', 'Smith', 'graduated', 'from', 'the', 'University', 'of', 'Washington', '.', 'He', 'later', 'started', 'an', 'analytics', 'firm', 'called', 'Lux', ',', 'which', 'catered', 'to', 'enterprise', 'customers', '.']\n"
     ]
    }
   ],
   "source": [
    "from nltk.tokenize import word_tokenize\n",
    "\n",
    "# Split text into words using NLTK\n",
    "words = word_tokenize(text)\n",
    "print(words)"
   ]
  },
  {
   "cell_type": "code",
   "execution_count": 20,
   "metadata": {},
   "outputs": [
    {
     "name": "stdout",
     "output_type": "stream",
     "text": [
      "['Dr. Smith graduated from the University of Washington.', 'He later started an analytics firm called Lux, which catered to enterprise customers.']\n"
     ]
    }
   ],
   "source": [
    "from nltk.tokenize import sent_tokenize\n",
    "\n",
    "# Split text into sentences\n",
    "sentences = sent_tokenize(text)\n",
    "print(sentences)"
   ]
  },
  {
   "cell_type": "code",
   "execution_count": 21,
   "metadata": {},
   "outputs": [
    {
     "name": "stdout",
     "output_type": "stream",
     "text": [
      "['i', 'me', 'my', 'myself', 'we', 'our', 'ours', 'ourselves', 'you', \"you're\", \"you've\", \"you'll\", \"you'd\", 'your', 'yours', 'yourself', 'yourselves', 'he', 'him', 'his', 'himself', 'she', \"she's\", 'her', 'hers', 'herself', 'it', \"it's\", 'its', 'itself', 'they', 'them', 'their', 'theirs', 'themselves', 'what', 'which', 'who', 'whom', 'this', 'that', \"that'll\", 'these', 'those', 'am', 'is', 'are', 'was', 'were', 'be', 'been', 'being', 'have', 'has', 'had', 'having', 'do', 'does', 'did', 'doing', 'a', 'an', 'the', 'and', 'but', 'if', 'or', 'because', 'as', 'until', 'while', 'of', 'at', 'by', 'for', 'with', 'about', 'against', 'between', 'into', 'through', 'during', 'before', 'after', 'above', 'below', 'to', 'from', 'up', 'down', 'in', 'out', 'on', 'off', 'over', 'under', 'again', 'further', 'then', 'once', 'here', 'there', 'when', 'where', 'why', 'how', 'all', 'any', 'both', 'each', 'few', 'more', 'most', 'other', 'some', 'such', 'no', 'nor', 'not', 'only', 'own', 'same', 'so', 'than', 'too', 'very', 's', 't', 'can', 'will', 'just', 'don', \"don't\", 'should', \"should've\", 'now', 'd', 'll', 'm', 'o', 're', 've', 'y', 'ain', 'aren', \"aren't\", 'couldn', \"couldn't\", 'didn', \"didn't\", 'doesn', \"doesn't\", 'hadn', \"hadn't\", 'hasn', \"hasn't\", 'haven', \"haven't\", 'isn', \"isn't\", 'ma', 'mightn', \"mightn't\", 'mustn', \"mustn't\", 'needn', \"needn't\", 'shan', \"shan't\", 'shouldn', \"shouldn't\", 'wasn', \"wasn't\", 'weren', \"weren't\", 'won', \"won't\", 'wouldn', \"wouldn't\"]\n"
     ]
    }
   ],
   "source": [
    "# List stop words\n",
    "from nltk.corpus import stopwords\n",
    "print(stopwords.words(\"english\"))"
   ]
  },
  {
   "cell_type": "code",
   "execution_count": 22,
   "metadata": {},
   "outputs": [
    {
     "name": "stdout",
     "output_type": "stream",
     "text": [
      "['the', 'first', 'time', 'you', 'see', 'the', 'second', 'renaissance', 'it', 'may', 'look', 'boring', 'look', 'at', 'it', 'at', 'least', 'twice', 'and', 'definitely', 'watch', 'part', '2', 'it', 'will', 'change', 'your', 'view', 'of', 'the', 'matrix', 'are', 'the', 'human', 'people', 'the', 'ones', 'who', 'started', 'the', 'war', 'is', 'ai', 'a', 'bad', 'thing']\n"
     ]
    }
   ],
   "source": [
    "# Reset text\n",
    "text = \"The first time you see The Second Renaissance it may look boring. Look at it at least twice and definitely watch part 2. It will change your view of the matrix. Are the human people the ones who started the war ? Is AI a bad thing ?\"\n",
    "\n",
    "# Normalize it\n",
    "text = re.sub(r\"[^a-zA-Z0-9]\", \" \", text.lower())\n",
    "\n",
    "# Tokenize it\n",
    "words = text.split()\n",
    "print(words)"
   ]
  },
  {
   "cell_type": "code",
   "execution_count": 23,
   "metadata": {},
   "outputs": [
    {
     "name": "stdout",
     "output_type": "stream",
     "text": [
      "['first', 'time', 'see', 'second', 'renaissance', 'may', 'look', 'boring', 'look', 'least', 'twice', 'definitely', 'watch', 'part', '2', 'change', 'view', 'matrix', 'human', 'people', 'ones', 'started', 'war', 'ai', 'bad', 'thing']\n"
     ]
    }
   ],
   "source": [
    "# Remove stop words\n",
    "words = [w for w in words if w not in stopwords.words(\"english\")]\n",
    "print(words)"
   ]
  },
  {
   "cell_type": "markdown",
   "metadata": {},
   "source": [
    "### Sentence Parsing"
   ]
  },
  {
   "cell_type": "code",
   "execution_count": 24,
   "metadata": {},
   "outputs": [
    {
     "name": "stdout",
     "output_type": "stream",
     "text": [
      "(S\n",
      "  (NP I)\n",
      "  (VP\n",
      "    (VP (V shot) (NP (Det an) (N elephant)))\n",
      "    (PP (P in) (NP (Det my) (N pajamas)))))\n",
      "(S\n",
      "  (NP I)\n",
      "  (VP\n",
      "    (V shot)\n",
      "    (NP (Det an) (N elephant) (PP (P in) (NP (Det my) (N pajamas))))))\n"
     ]
    }
   ],
   "source": [
    "import nltk\n",
    "\n",
    "# Define a custom grammar\n",
    "my_grammar = nltk.CFG.fromstring(\"\"\"\n",
    "S -> NP VP\n",
    "PP -> P NP\n",
    "NP -> Det N | Det N PP | 'I'\n",
    "VP -> V NP | VP PP\n",
    "Det -> 'an' | 'my'\n",
    "N -> 'elephant' | 'pajamas'\n",
    "V -> 'shot'\n",
    "P -> 'in'\n",
    "\"\"\")\n",
    "parser = nltk.ChartParser(my_grammar)\n",
    "\n",
    "# Parse a sentence\n",
    "sentence = word_tokenize(\"I shot an elephant in my pajamas\")\n",
    "for tree in parser.parse(sentence):\n",
    "    print(tree)"
   ]
  },
  {
   "cell_type": "markdown",
   "metadata": {},
   "source": [
    "## Stemming & Lemmatization\n",
    "\n",
    "### Stemming"
   ]
  },
  {
   "cell_type": "code",
   "execution_count": 25,
   "metadata": {},
   "outputs": [
    {
     "name": "stdout",
     "output_type": "stream",
     "text": [
      "['first', 'time', 'see', 'second', 'renaiss', 'may', 'look', 'bore', 'look', 'least', 'twice', 'definit', 'watch', 'part', '2', 'chang', 'view', 'matrix', 'human', 'peopl', 'one', 'start', 'war', 'ai', 'bad', 'thing']\n"
     ]
    }
   ],
   "source": [
    "from nltk.stem.porter import PorterStemmer\n",
    "\n",
    "# Reduce words to their stems\n",
    "stemmed = [PorterStemmer().stem(w) for w in words]\n",
    "print(stemmed)"
   ]
  },
  {
   "cell_type": "markdown",
   "metadata": {},
   "source": [
    "### Lemmatization"
   ]
  },
  {
   "cell_type": "code",
   "execution_count": 26,
   "metadata": {},
   "outputs": [
    {
     "name": "stdout",
     "output_type": "stream",
     "text": [
      "['first', 'time', 'see', 'second', 'renaissance', 'may', 'look', 'boring', 'look', 'least', 'twice', 'definitely', 'watch', 'part', '2', 'change', 'view', 'matrix', 'human', 'people', 'one', 'started', 'war', 'ai', 'bad', 'thing']\n"
     ]
    }
   ],
   "source": [
    "from nltk.stem.wordnet import WordNetLemmatizer\n",
    "\n",
    "# Reduce words to their root form\n",
    "lemmed = [WordNetLemmatizer().lemmatize(w) for w in words]\n",
    "print(lemmed)"
   ]
  },
  {
   "cell_type": "code",
   "execution_count": 28,
   "metadata": {},
   "outputs": [
    {
     "name": "stdout",
     "output_type": "stream",
     "text": [
      "['first', 'time', 'see', 'second', 'renaissance', 'may', 'look', 'bore', 'look', 'least', 'twice', 'definitely', 'watch', 'part', '2', 'change', 'view', 'matrix', 'human', 'people', 'one', 'start', 'war', 'ai', 'bad', 'thing']\n"
     ]
    }
   ],
   "source": [
    "# Lemmatize verbs by specifying pos\n",
    "lemmed = [WordNetLemmatizer().lemmatize(w, pos='v') for w in lemmed]\n",
    "print(lemmed)"
   ]
  },
  {
   "cell_type": "code",
   "execution_count": null,
   "metadata": {},
   "outputs": [],
   "source": []
  }
 ],
 "metadata": {
  "kernelspec": {
   "display_name": "Python 3",
   "language": "python",
   "name": "python3"
  },
  "language_info": {
   "codemirror_mode": {
    "name": "ipython",
    "version": 3
   },
   "file_extension": ".py",
   "mimetype": "text/x-python",
   "name": "python",
   "nbconvert_exporter": "python",
   "pygments_lexer": "ipython3",
   "version": "3.6.2"
  }
 },
 "nbformat": 4,
 "nbformat_minor": 2
}
